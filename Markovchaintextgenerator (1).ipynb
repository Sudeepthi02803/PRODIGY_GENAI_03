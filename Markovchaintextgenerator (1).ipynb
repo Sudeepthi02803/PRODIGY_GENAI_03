{
  "nbformat": 4,
  "nbformat_minor": 0,
  "metadata": {
    "colab": {
      "provenance": []
    },
    "kernelspec": {
      "name": "python3",
      "display_name": "Python 3"
    },
    "language_info": {
      "name": "python"
    }
  },
  "cells": [
    {
      "cell_type": "code",
      "source": [
        "import random\n",
        "import re\n",
        "from collections import defaultdict\n",
        "\n",
        "class MarkovChainTextGenerator:\n",
        "    def __init__(self):\n",
        "        self.model = defaultdict(list)\n",
        "\n",
        "    def train(self, text, n=1):\n",
        "        \"\"\"Train the model with the given text.\"\"\"\n",
        "        words = re.findall(r'\\b\\w+\\b', text.lower())\n",
        "        for i in range(len(words) - n):\n",
        "            key = tuple(words[i:i+n])\n",
        "            value = words[i + n]\n",
        "            self.model[key].append(value)\n",
        "\n",
        "    def generate(self, length=50, seed=None, n=1):\n",
        "        \"\"\"Generate text of a given length using the trained model.\"\"\"\n",
        "        if seed is None:\n",
        "            seed = random.choice(list(self.model.keys()))\n",
        "        elif len(seed.split()) < n:\n",
        "            raise ValueError(f\"Seed must contain at least {n} words.\")\n",
        "        else:\n",
        "            seed = tuple(seed.lower().split()[:n])\n",
        "\n",
        "        output = list(seed)\n",
        "        for _ in range(length - n):\n",
        "            next_word = random.choice(self.model[seed])\n",
        "            output.append(next_word)\n",
        "            seed = tuple(output[-n:])\n",
        "        return ' '.join(output)\n",
        "\n",
        "# Example usage\n",
        "text = \"\"\"\n",
        "Alice was beginning to get very tired of sitting by her sister on the bank,\n",
        "and of having nothing to do: once or twice she had peeped into the book her sister was reading,\n",
        "but it had no pictures or conversations in it, 'and what is the use of a book,' thought Alice 'without pictures or conversations?'\n",
        "\"\"\"\n",
        "\n",
        "generator = MarkovChainTextGenerator()\n",
        "generator.train(text, n=2)  # Using bigrams (n=2)\n",
        "\n",
        "# Generate text\n",
        "generated_text = generator.generate(length=50, seed=\"Alice was\", n=2)\n",
        "print(generated_text)\n"
      ],
      "metadata": {
        "colab": {
          "base_uri": "https://localhost:8080/"
        },
        "id": "UZhAWv-k8W4A",
        "outputId": "74cbe54b-9b00-40ac-f7c5-06fc420e9dd1"
      },
      "execution_count": 2,
      "outputs": [
        {
          "output_type": "stream",
          "name": "stdout",
          "text": [
            "alice was beginning to get very tired of sitting by her sister on the bank and of having nothing to do once or twice she had peeped into the book her sister on the bank and of having nothing to do once or twice she had peeped into the book\n"
          ]
        }
      ]
    }
  ]
}